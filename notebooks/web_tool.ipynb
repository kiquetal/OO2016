{
 "cells": [
  {
   "cell_type": "markdown",
   "metadata": {
    "extensions": {
     "jupyter_dashboards": {
      "version": 1,
      "views": {
       "grid_default": {
        "col": 0,
        "height": 4,
        "hidden": false,
        "row": 0,
        "width": 12
       },
       "report_default": {
        "hidden": false
       }
      }
     }
    }
   },
   "source": [
    "## Imports and prerequisits"
   ]
  },
  {
   "cell_type": "code",
   "execution_count": 1,
   "metadata": {
    "collapsed": false,
    "extensions": {
     "jupyter_dashboards": {
      "version": 1,
      "views": {
       "grid_default": {
        "col": 4,
        "height": 4,
        "hidden": true,
        "row": 0,
        "width": 4
       },
       "report_default": {
        "hidden": true
       }
      }
     }
    }
   },
   "outputs": [
    {
     "name": "stdout",
     "output_type": "stream",
     "text": [
      "Populating the interactive namespace from numpy and matplotlib\n"
     ]
    }
   ],
   "source": [
    "%pylab inline\n",
    "import numpy as np\n",
    "import scipy\n",
    "from scipy import signal\n",
    "import os\n",
    "import csv\n",
    "from my_logger import log_progress\n",
    "\n",
    "matplotlib.rcParams['savefig.dpi'] = 120\n",
    "import seaborn as sns\n",
    "sns.set_style('whitegrid',{'grid.linestyle': u'--'})\n",
    "\n",
    "sys.path.append('/home/marrabld/Dropbox/2_PhD/bootstrap/bootstrappy')\n",
    "sys.path.append('/home/marrabld/Dropbox/2_PhD/bootstrap/bootstrappy/libbootstrap')\n",
    "\n",
    "import libbootstrap.spectralmodel as spectralmodel\n",
    "import scipy\n",
    "import libbootstrap.spectra_generator as spectra_generator\n",
    "\n",
    "from ipywidgets import interact, interactive, fixed\n",
    "import ipywidgets as widgets\n",
    "\n",
    "from libs.models import *"
   ]
  },
  {
   "cell_type": "code",
   "execution_count": 2,
   "metadata": {
    "collapsed": true,
    "extensions": {
     "jupyter_dashboards": {
      "version": 1,
      "views": {
       "grid_default": {
        "hidden": true
       },
       "report_default": {
        "hidden": true
       }
      }
     }
    }
   },
   "outputs": [],
   "source": [
    "def grab_file(b):\n",
    "    remote_file = txt.value\n",
    "    print(\"Grabbing :: \" + remote_file)\n",
    "    !wget \"$remote_file\" -O 'inputs/rrs_files/rrs.csv'"
   ]
  },
  {
   "cell_type": "code",
   "execution_count": null,
   "metadata": {
    "collapsed": true,
    "extensions": {
     "jupyter_dashboards": {
      "version": 1,
      "views": {
       "grid_default": {
        "hidden": true
       },
       "report_default": {
        "hidden": true
       }
      }
     }
    }
   },
   "outputs": [],
   "source": []
  },
  {
   "cell_type": "code",
   "execution_count": null,
   "metadata": {
    "collapsed": true,
    "extensions": {
     "jupyter_dashboards": {
      "version": 1,
      "views": {
       "grid_default": {
        "hidden": true
       },
       "report_default": {
        "hidden": true
       }
      }
     }
    }
   },
   "outputs": [],
   "source": []
  },
  {
   "cell_type": "code",
   "execution_count": 3,
   "metadata": {
    "collapsed": false,
    "extensions": {
     "jupyter_dashboards": {
      "version": 1,
      "views": {
       "grid_default": {
        "col": 0,
        "height": 5,
        "hidden": false,
        "row": 4,
        "width": 12
       },
       "report_default": {
        "hidden": false
       }
      }
     }
    }
   },
   "outputs": [],
   "source": [
    "heading = widgets.HTML(\n",
    "    value=\"<center><h2>Enter Remote URL to .CSV file</h2></center>\"\n",
    ")\n",
    "display(heading)\n",
    "\n",
    "txt = widgets.Text(description='Remote URL')\n",
    "txt.width = \"800px\"\n",
    "\n",
    "#print(remote_file)\n",
    "display(txt)\n",
    "\n",
    "#remote_file = txt.value()\n",
    "\n",
    "btn = widgets.Button(description='Pull File', button_style='primary')\n",
    "btn.on_click(grab_file)\n",
    "#btn.on_click(print_val)\n",
    "display(btn)"
   ]
  },
  {
   "cell_type": "code",
   "execution_count": 2,
   "metadata": {
    "collapsed": true,
    "extensions": {
     "jupyter_dashboards": {
      "version": 1,
      "views": {
       "grid_default": {
        "hidden": true
       },
       "report_default": {
        "hidden": true
       }
      }
     }
    }
   },
   "outputs": [],
   "source": [
    "def plot_inverted(rrs_num=1):\n",
    "    \n",
    "    _label = '$a_\\phi = ' + str(data[rrs_num].x[0]) + '$' + \\\n",
    "    '\\n $a_g = ' + str(data[rrs_num].x[1]) + '$' + \\\n",
    "    '\\n $b_{bp} = ' + str(data[rrs_num].x[2]) + '$'\n",
    "\n",
    "    model_rrs = dc.func(data[rrs_num].x)\n",
    "    measured_rrs = dc.rrs[rrs_num, :]\n",
    "\n",
    "    pylab.plot(wavelengths, model_rrs , 'k' , alpha = 0.75, label=_label)\n",
    "\n",
    "    rms = rmse(model_rrs, measured_rrs)\n",
    "\n",
    "    pylab.plot(wavelengths, measured_rrs, alpha = 0.75, label='$RMSE = ' + str(rms) + '$')\n",
    "\n",
    "    pylab.legend()\n",
    "    print(data[rrs_num])\n",
    "\n",
    "    pylab.show()"
   ]
  },
  {
   "cell_type": "code",
   "execution_count": 5,
   "metadata": {
    "collapsed": false,
    "extensions": {
     "jupyter_dashboards": {
      "version": 1,
      "views": {
       "grid_default": {
        "hidden": true
       },
       "report_default": {
        "hidden": true
       }
      }
     }
    }
   },
   "outputs": [],
   "source": [
    "def rmse(predictions, targets):\n",
    "    return np.sqrt(((predictions - targets) ** 2).mean())"
   ]
  },
  {
   "cell_type": "code",
   "execution_count": 6,
   "metadata": {
    "collapsed": true,
    "extensions": {
     "jupyter_dashboards": {
      "version": 1,
      "views": {
       "grid_default": {
        "hidden": true
       },
       "report_default": {
        "hidden": true
       }
      }
     }
    }
   },
   "outputs": [],
   "source": [
    "def plot_fwd(i_rrs=5, X=0.001, G=0.001, P=0.001):\n",
    "    rrs = np.genfromtxt('./inputs/rrs_files/synthRrs.csv', delimiter=',')\n",
    "    \n",
    "    _label = '$a_\\phi = ' + str(P) + '$' + \\\n",
    "    '\\n $a_g = ' + str(G) + '$' + \\\n",
    "    '\\n $b_{bp} = ' + str(X) + '$'\n",
    "    \n",
    "    \n",
    "    \n",
    "    #for i_iter in np.linspace(0, 0.1, num_iters):\n",
    "    forward = dc.func([P, X, G])  # P, X, -d-, G [0.01 0.1 0.0 0.1]\n",
    "    \n",
    "    rms = rmse(rrs[i_rrs], forward)\n",
    "    plot(wavelengths, forward, label=_label)\n",
    "    \n",
    "    plot(wavelengths, rrs[i_rrs], 'k', alpha=0.75, label='$RMSE = ' + str(rms) + '$')\n",
    "    \n",
    "    pylab.legend()"
   ]
  },
  {
   "cell_type": "code",
   "execution_count": null,
   "metadata": {
    "collapsed": true,
    "extensions": {
     "jupyter_dashboards": {
      "version": 1,
      "views": {
       "grid_default": {
        "hidden": true
       },
       "report_default": {
        "hidden": true
       }
      }
     }
    }
   },
   "outputs": [],
   "source": []
  },
  {
   "cell_type": "code",
   "execution_count": 1,
   "metadata": {
    "collapsed": false,
    "extensions": {
     "jupyter_dashboards": {
      "version": 1,
      "views": {
       "grid_default": {
        "col": 0,
        "height": 24,
        "hidden": false,
        "row": 9,
        "width": 12
       },
       "report_default": {
        "hidden": false
       }
      }
     }
    }
   },
   "outputs": [
    {
     "ename": "NameError",
     "evalue": "name 'np' is not defined",
     "output_type": "error",
     "traceback": [
      "\u001b[0;31m---------------------------------------------------------------------------\u001b[0m",
      "\u001b[0;31mNameError\u001b[0m                                 Traceback (most recent call last)",
      "\u001b[0;32m<ipython-input-1-ef592e2be4c4>\u001b[0m in \u001b[0;36m<module>\u001b[0;34m()\u001b[0m\n\u001b[1;32m      1\u001b[0m \u001b[0mrrs_file\u001b[0m \u001b[0;34m=\u001b[0m \u001b[0;34m'./inputs/rrs_files/rrs.csv'\u001b[0m\u001b[0;34m\u001b[0m\u001b[0m\n\u001b[0;32m----> 2\u001b[0;31m \u001b[0mrrs\u001b[0m \u001b[0;34m=\u001b[0m \u001b[0mnp\u001b[0m\u001b[0;34m.\u001b[0m\u001b[0mgenfromtxt\u001b[0m\u001b[0;34m(\u001b[0m\u001b[0mrrs_file\u001b[0m\u001b[0;34m,\u001b[0m \u001b[0mdelimiter\u001b[0m\u001b[0;34m=\u001b[0m\u001b[0;34m','\u001b[0m\u001b[0;34m)\u001b[0m\u001b[0;34m\u001b[0m\u001b[0m\n\u001b[0m\u001b[1;32m      3\u001b[0m \u001b[0mwavelengths\u001b[0m \u001b[0;34m=\u001b[0m \u001b[0mrrs\u001b[0m\u001b[0;34m[\u001b[0m\u001b[0;36m0\u001b[0m\u001b[0;34m,\u001b[0m \u001b[0;34m:\u001b[0m\u001b[0;34m]\u001b[0m\u001b[0;34m\u001b[0m\u001b[0m\n\u001b[1;32m      4\u001b[0m \u001b[0;34m\u001b[0m\u001b[0m\n\u001b[1;32m      5\u001b[0m \u001b[0mdc\u001b[0m \u001b[0;34m=\u001b[0m \u001b[0mHopeDeep\u001b[0m\u001b[0;34m(\u001b[0m\u001b[0mwavelengths\u001b[0m\u001b[0;34m)\u001b[0m\u001b[0;34m;\u001b[0m\u001b[0;34m\u001b[0m\u001b[0m\n",
      "\u001b[0;31mNameError\u001b[0m: name 'np' is not defined"
     ]
    }
   ],
   "source": [
    "rrs_file = './inputs/rrs_files/rrs.csv'\n",
    "rrs = np.genfromtxt(rrs_file, delimiter=',')\n",
    "wavelengths = rrs[0, :]\n",
    "\n",
    "dc = HopeDeep(wavelengths);\n",
    "dc.rrs = np.genfromtxt(rrs_file, delimiter=',')\n",
    "dc.read_all_iops_from_files();\n",
    "\n",
    "data = dc.run(num_iters=1);\n",
    "\n",
    "print(data)\n",
    "\n",
    "interact(plot_inverted, rrs_num=(1, len(data[0])))"
   ]
  },
  {
   "cell_type": "markdown",
   "metadata": {
    "collapsed": true,
    "extensions": {
     "jupyter_dashboards": {
      "version": 1,
      "views": {
       "grid_default": {
        "col": 0,
        "height": 4,
        "hidden": false,
        "row": 33,
        "width": 12
       },
       "report_default": {}
      }
     }
    }
   },
   "source": [
    "------"
   ]
  },
  {
   "cell_type": "code",
   "execution_count": 8,
   "metadata": {
    "collapsed": false,
    "extensions": {
     "jupyter_dashboards": {
      "version": 1,
      "views": {
       "grid_default": {
        "col": 0,
        "height": 25,
        "hidden": false,
        "row": 37,
        "width": 12
       },
       "report_default": {
        "hidden": true
       }
      }
     }
    }
   },
   "outputs": [
    {
     "data": {
      "image/png": "[encoded data removed]",
      "text/plain": [
       "<matplotlib.figure.Figure at 0x7fbd400fee10>"
      ]
     },
     "metadata": {},
     "output_type": "display_data"
    }
   ],
   "source": [
    "interact(plot_fwd, i_rrs=(0,rrs.shape[0] -1),  G=(0.001,1, 0.001), num_iters=(1, 100), P=(0.001, 1, 0.001), X=(0.00, 0.08, 0.001))"
   ]
  },
  {
   "cell_type": "code",
   "execution_count": null,
   "metadata": {
    "collapsed": true,
    "extensions": {
     "jupyter_dashboards": {
      "version": 1,
      "views": {
       "grid_default": {
        "hidden": true
       },
       "report_default": {}
      }
     }
    }
   },
   "outputs": [],
   "source": []
  },
  {
   "cell_type": "code",
   "execution_count": null,
   "metadata": {
    "collapsed": true,
    "extensions": {
     "jupyter_dashboards": {
      "version": 1,
      "views": {
       "grid_default": {
        "hidden": true
       },
       "report_default": {
        "hidden": false
       }
      }
     }
    }
   },
   "outputs": [],
   "source": []
  }
 ],
 "metadata": {
  "extensions": {
   "jupyter_dashboards": {
    "activeView": "grid_default",
    "version": 1,
    "views": {
     "grid_default": {
      "cellMargin": 10,
      "defaultCellHeight": 20,
      "maxColumns": 12,
      "name": "grid",
      "type": "grid"
     },
     "report_default": {
      "name": "report",
      "type": "report"
     }
    }
   }
  },
  "kernelspec": {
   "display_name": "Python 2",
   "language": "python",
   "name": "python2"
  },
  "language_info": {
   "codemirror_mode": {
    "name": "ipython",
    "version": 2
   },
   "file_extension": ".py",
   "mimetype": "text/x-python",
   "name": "python",
   "nbconvert_exporter": "python",
   "pygments_lexer": "ipython2",
   "version": "2.7.10"
  },
  "widgets": {
   "state": {},
   "version": "1.1.2"
  }
 },
 "nbformat": 4,
 "nbformat_minor": 0
}
