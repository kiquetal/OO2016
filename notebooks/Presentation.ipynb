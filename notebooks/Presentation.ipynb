{
 "cells": [
  {
   "cell_type": "markdown",
   "metadata": {
    "extensions": {
     "jupyter_dashboards": {
      "version": 1,
      "views": {
       "grid_default": {
        "col": 0,
        "height": 36,
        "hidden": false,
        "row": 0,
        "width": 12
       },
       "report_default": {
        "hidden": false
       }
      }
     }
    }
   },
   "source": [
    "<div class=\"jumbotron\"; style=\"background-image: url(http://redtrust.net/wp-content/uploads/2016/04/rt-bg.jpg); background-size: 100%;\">\n",
    "  <h1><center> <font color=\"white\">Coherent Noise Modelling for Uncertainty Estimation of Remote Sensing Data</font></center></h1>\n",
    "  <h3><center><font color=\"white\"> Daniel Marrable </font></center></h3>\n",
    "  <p><h3><center><font color=\"white\">Ocean Optics 2016</font></center></h3></p>\n",
    "  \n",
    "  <p class=\"text-centre\"><font color=\"white\">Estimating uncertainties in remotely sensed environmental parameters presents a challenge, especially as repeated measurements are difficult to make and noise is produced variously from different environmental and instrument sources. A common estimation method is to generate synthetic datasets by randomly perturbing reflectance by a small percentage of noise, optimising by minimising a cost function and then generating surrogate environmental parameters.  When this process is repeated often enough a distribution of surrogate parameters is generated and the deviation of the distribution is used to infer an uncertainty for the ‘true’ environmental parameter. However, the problem with this approach is that it is unlikely to result in perturbations that reflect the real world, due to the mismatch between modelling using spectrally random noise and the effects of natural variability in optical properties being spectrally coherent. It is insufficient to randomly perturb the reflectance and expect this to mimic natural variations found in nature.</font></p>\n",
    "  \n",
    "\n",
    "<p class=\"text-centre\"><font color=\"white\">We present a method of perturbing the reflectance that is more representative of natural variations found in field measurements. By modelling natural variations in inherent optical properties and forward calculating their effect on the reflectance data, we produce a power spectrum that can in turn be used to generate random synthetic reflectance data.  The result of this method is that, through repeated inversions of these synthetic data, an estimate of the optimised environmental parameter can be inferred. We compare our modelling approach to estimates of variability based on multiple field measurements in both shallow and deep water.</font></p>\n",
    "\n",
    "\n",
    "  \n",
    "\n",
    "\n",
    "<div class=\"row\">\n",
    "  <div class=\"col-sm-6 col-md-6\">\n",
    "    <div class=\"thumbnail\">\n",
    "      <a href=\"#\" class=\"thumbnail\">\n",
    "        <img src=\"http://i.imgur.com/31LJpSG.gif\" alt=\"...\">\n",
    "        <div class=\"caption\">\n",
    "          <h3><center>Dalec measured data sets</center></h3>\n",
    "          <p><center>Shows the the variation in remote sensing reflectance for a stationary water location.</center></p>\n",
    "          <p><a href=\"#section2\" class=\"btn btn-primary\" role=\"button\">Begin</a></p>\n",
    "        </div>\n",
    "      </a>\n",
    "    </div>\n",
    "  </div>\n",
    "  <div class=\"col-sm-6 col-md-6\">\n",
    "    <div class=\"thumbnail\">\n",
    "      <a href=\"#\" class=\"thumbnail\">\n",
    "        <img src=\"http://i.imgur.com/q4ARiHf.gif\" alt=\"...\">\n",
    "        <div class=\"caption\">\n",
    "          <h3><center>Synthetic data sets</center></h3>\n",
    "          <p><center>Shows the variation in the synthetic data produced from the powerspectrum of the DALEC measured data.</center></p>\n",
    "          <p><a href=\"#section2\" class=\"btn btn-primary\" role=\"button\">Begin</a></p>\n",
    "        </div>\n",
    "      </a>\n",
    "    </div>   \n",
    "  </div>\n",
    " </div> \n",
    "\n",
    "  <div class=\"page-header\">\n",
    "  <h1><font color=\"white\">Training Stage </font><small>Coherent noise modelling for uncertainty measurements</small></h1>\n",
    "</div>\n",
    "\n",
    "<p><font color=\"white\">In order to capture the naturally varying environmental conditions and their effect on the reflectance spectrum, repeat measurements at a single location were made.  In the ideal scenario, making repeat measurements at the same locations would yield the same spectra.  In practice, changes in the water surface, rocking of the boat and water currents (to name only a few) mean that the spectra will change independently of the IOPs.  It is these variations that are captured by taking repeat measurements.  By modelling these changes, through the training stage, these naturally occurring variations can be propagated through the synthetic data sets.  The method of modelling these variations is described below. This section uses on SCCP location (ARM) as an exemplar.  The process was repeated for all of the SCCP locations on the Swan River. </font></p>\n",
    "\n",
    "\n",
    "<div class=\"page-header\">\n",
    "  <h1><font color=\"white\">Generation Stage </font><small>Coherent noise modelling for uncertainty measurements</small></h1>\n",
    "</div>\n",
    "\n",
    "<p><font color=\"white\">For each wavelength we wish to randomly generate a value within the defined variance of that wavelength.  To do this, first generate random numbers $n$ between $-0.5$ and $0.5$.  As a first approximation, a random distribution is used, but the distribution that is used should conform to the distribution that the IOPs conform too.  This is usually unknown without lots of repeat measurements, so a random distribution is used as a first guess.  The actual distribution is subject to further investigation.  These random values will be scaled by the power spectrum in later steps in the process.</font></p>\n",
    "\n",
    "\n",
    "<div class=\"page-header\">\n",
    "  <h1><font color=\"white\">Solution Stage </font><small>Coherent noise modelling for uncertainty measurements</small></h1>\n",
    "</div>\n",
    "\n",
    "<p><font color=\"white\">For the solution stage, all of the simulated data are inverted for $a_\\phi$, $a_g$ and $b_{bp}$.  Below presents the results of using the coherent noise model for the stationary data at ARM. The following sections presents the results for the other river sites.</font></p>\n",
    "\n",
    "</div>\n"
   ]
  },
  {
   "cell_type": "markdown",
   "metadata": {
    "extensions": {
     "jupyter_dashboards": {
      "version": 1,
      "views": {
       "grid_default": {
        "hidden": true
       },
       "report_default": {
        "hidden": true
       }
      }
     }
    }
   },
   "source": []
  },
  {
   "cell_type": "markdown",
   "metadata": {
    "collapsed": true,
    "extensions": {
     "jupyter_dashboards": {
      "version": 1,
      "views": {
       "grid_default": {
        "col": 0,
        "height": 15,
        "hidden": false,
        "row": 36,
        "width": null
       },
       "report_default": {
        "hidden": true
       }
      }
     }
    }
   },
   "source": []
  },
  {
   "cell_type": "markdown",
   "metadata": {
    "extensions": {
     "jupyter_dashboards": {
      "version": 1,
      "views": {
       "grid_default": {
        "col": 4,
        "height": 11,
        "hidden": false,
        "row": 51,
        "width": null
       },
       "report_default": {
        "hidden": true
       }
      }
     }
    }
   },
   "source": []
  },
  {
   "cell_type": "code",
   "execution_count": 14,
   "metadata": {
    "collapsed": false,
    "extensions": {
     "jupyter_dashboards": {
      "version": 1,
      "views": {
       "grid_default": {
        "col": 0,
        "height": 4,
        "hidden": false,
        "row": 51,
        "width": 4
       },
       "report_default": {
        "hidden": false
       }
      }
     }
    }
   },
   "outputs": [
    {
     "data": {
      "text/plain": [
       "1128"
      ]
     },
     "execution_count": 14,
     "metadata": {},
     "output_type": "execute_result"
    }
   ],
   "source": [
    "1128"
   ]
  },
  {
   "cell_type": "markdown",
   "metadata": {
    "collapsed": true,
    "extensions": {
     "jupyter_dashboards": {
      "version": 1,
      "views": {
       "grid_default": {
        "col": 0,
        "height": 4,
        "hidden": false,
        "row": 55,
        "width": 4
       },
       "report_default": {
        "hidden": false
       }
      }
     }
    }
   },
   "source": [
    "<div class=\"alert alert-warning\" role=\"alert\"><b>Warning!!!</b> This is a test notebook only</div>"
   ]
  },
  {
   "cell_type": "code",
   "execution_count": null,
   "metadata": {
    "collapsed": true,
    "extensions": {
     "jupyter_dashboards": {
      "version": 1,
      "views": {
       "grid_default": {
        "hidden": true
       },
       "report_default": {
        "hidden": true
       }
      }
     }
    }
   },
   "outputs": [],
   "source": []
  }
 ],
 "metadata": {
  "extensions": {
   "jupyter_dashboards": {
    "activeView": "report_default",
    "version": 1,
    "views": {
     "grid_default": {
      "cellMargin": 10,
      "defaultCellHeight": 20,
      "maxColumns": 12,
      "name": "grid",
      "type": "grid"
     },
     "report_default": {
      "name": "report",
      "type": "report"
     }
    }
   }
  },
  "kernelspec": {
   "display_name": "Python 2",
   "language": "python",
   "name": "python2"
  },
  "language_info": {
   "codemirror_mode": {
    "name": "ipython",
    "version": 2
   },
   "file_extension": ".py",
   "mimetype": "text/x-python",
   "name": "python",
   "nbconvert_exporter": "python",
   "pygments_lexer": "ipython2",
   "version": "2.7.10"
  },
  "widgets": {
   "state": {},
   "version": "1.1.2"
  }
 },
 "nbformat": 4,
 "nbformat_minor": 1
}
