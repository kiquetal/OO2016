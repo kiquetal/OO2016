{
 "cells": [
  {
   "cell_type": "markdown",
   "metadata": {
    "extensions": {
     "jupyter_dashboards": {
      "version": 1,
      "views": {
       "grid_default": {
        "col": 0,
        "height": 36,
        "hidden": false,
        "row": 0,
        "width": 12
       },
       "report_default": {}
      }
     }
    }
   },
   "source": [
    "<div class=\"jumbotron\"; style=\"background-image: url(http://redtrust.net/wp-content/uploads/2016/04/rt-bg.jpg); background-size: 100%;\">\n",
    "  <h1><center> <font color=\"white\">Coherent Noise Modelling for Uncertainty Estimation of Remote Sensing Data</font></center></h1>\n",
    "  <h3><center><font color=\"white\"> Daniel Marrable </font>\n",
    "  <p><h3><center><font color=\"white\">Ocean Optics 2016</font></center></h3></p>\n",
    "  \n",
    "  <p class=\"text-justify\"><font color=\"white\">Estimating uncertainties in remotely sensed environmental parameters presents a challenge, especially as repeated measurements are difficult to make and noise is produced variously from different environmental and instrument sources. A common estimation method is to generate synthetic datasets by randomly perturbing reflectance by a small percentage of noise, optimising by minimising a cost function and then generating surrogate environmental parameters.  When this process is repeated often enough a distribution of surrogate parameters is generated and the deviation of the distribution is used to infer an uncertainty for the ‘true’ environmental parameter. However, the problem with this approach is that it is unlikely to result in perturbations that reflect the real world, due to the mismatch between modelling using spectrally random noise and the effects of natural variability in optical properties being spectrally coherent. It is insufficient to randomly perturb the reflectance and expect this to mimic natural variations found in nature.</p>\n",
    "  \n",
    "\n",
    "<p class=\"text-centre\"><font color=\"white\">We present a method of perturbing the reflectance that is more representative of natural variations found in field measurements. By modelling natural variations in inherent optical properties and forward calculating their effect on the reflectance data, we produce a power spectrum that can in turn be used to generate random synthetic reflectance data.  The result of this method is that, through repeated inversions of these synthetic data, an estimate of the optimised environmental parameter can be inferred. We compare our modelling approach to estimates of variability based on multiple field measurements in both shallow and deep water.</font></p>\n",
    "\n",
    "<p class=\"text-right\">Justified text. Justified text. Justified text. Justified text. Justisdsldksldksldksldksldkslkdslkdslkdlskdlsdksldklskfied text. Justified text.</p>\n",
    "  \n",
    "  \n",
    "</div>\n",
    "\n",
    "<div class=\"row\">\n",
    "  <div class=\"col-sm-6 col-md-6\">\n",
    "    <div class=\"thumbnail\">\n",
    "      <a href=\"#\" class=\"thumbnail\">\n",
    "        <img src=\"http://i.imgur.com/31LJpSG.gif\" alt=\"...\">\n",
    "        <div class=\"caption\">\n",
    "          <h3><center>Dalec measured data sets</center></h3>\n",
    "          <p>This is some text</p>\n",
    "          <p><a href=\"#section2\" class=\"btn btn-primary\" role=\"button\">Begin</a></p>\n",
    "        </div>\n",
    "      </a>\n",
    "    </div>\n",
    "  </div>\n",
    "  <div class=\"col-sm-6 col-md-6\">\n",
    "    <div class=\"thumbnail\">\n",
    "      <a href=\"#\" class=\"thumbnail\">\n",
    "        <img src=\"http://i.imgur.com/q4ARiHf.gif\" alt=\"...\">\n",
    "        <div class=\"caption\">\n",
    "          <h3><center>Synthetic data sets</center></h3>\n",
    "          <p>This is some text</p>\n",
    "          <p><a href=\"#section2\" class=\"btn btn-primary\" role=\"button\">Begin</a></p>\n",
    "        </div>\n",
    "      </a>\n",
    "    </div>\n",
    "    \n",
    "    \n",
    "  </div>\n",
    "</div>"
   ]
  },
  {
   "cell_type": "markdown",
   "metadata": {
    "extensions": {
     "jupyter_dashboards": {
      "version": 1,
      "views": {
       "grid_default": {
        "hidden": true
       },
       "report_default": {}
      }
     }
    }
   },
   "source": [
    "<div class=\"page-header\">\n",
    "  <h1>Training Stage <small>Coherent noise modeeling for uncertainty measurements</small></h1>\n",
    "</div>"
   ]
  },
  {
   "cell_type": "markdown",
   "metadata": {
    "collapsed": true,
    "extensions": {
     "jupyter_dashboards": {
      "version": 1,
      "views": {
       "grid_default": {
        "hidden": true
       },
       "report_default": {}
      }
     }
    }
   },
   "source": []
  },
  {
   "cell_type": "markdown",
   "metadata": {
    "extensions": {
     "jupyter_dashboards": {
      "version": 1,
      "views": {
       "grid_default": {
        "col": 0,
        "height": 29,
        "hidden": false,
        "row": 36,
        "width": 12
       },
       "report_default": {}
      }
     }
    }
   },
   "source": []
  },
  {
   "cell_type": "code",
   "execution_count": null,
   "metadata": {
    "collapsed": true,
    "extensions": {
     "jupyter_dashboards": {
      "version": 1,
      "views": {
       "grid_default": {
        "hidden": true
       },
       "report_default": {}
      }
     }
    }
   },
   "outputs": [],
   "source": []
  }
 ],
 "metadata": {
  "extensions": {
   "jupyter_dashboards": {
    "activeView": "grid_default",
    "version": 1,
    "views": {
     "grid_default": {
      "cellMargin": 10,
      "defaultCellHeight": 20,
      "maxColumns": 12,
      "name": "grid",
      "type": "grid"
     },
     "report_default": {
      "name": "report",
      "type": "report"
     }
    }
   }
  },
  "kernelspec": {
   "display_name": "Python 2",
   "language": "python",
   "name": "python2"
  },
  "language_info": {
   "codemirror_mode": {
    "name": "ipython",
    "version": 2
   },
   "file_extension": ".py",
   "mimetype": "text/x-python",
   "name": "python",
   "nbconvert_exporter": "python",
   "pygments_lexer": "ipython2",
   "version": "2.7.10"
  },
  "widgets": {
   "state": {},
   "version": "1.1.2"
  }
 },
 "nbformat": 4,
 "nbformat_minor": 1
}
